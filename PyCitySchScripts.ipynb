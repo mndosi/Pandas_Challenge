{
 "cells": [
  {
   "cell_type": "code",
   "execution_count": 217,
   "metadata": {},
   "outputs": [],
   "source": [
    "# Dependencies and Setup\n",
    "import pandas as pd\n",
    "import numpy as np\n",
    "\n",
    "#constand\n",
    "\n",
    "# File to Load\n",
    "COMP_SCHOOOL_PATH= \"Resources/schools_complete.csv\"\n",
    "COMP_STUDENT_PATH= \"Resources/students_complete.csv\"\n"
   ]
  },
  {
   "cell_type": "code",
   "execution_count": 218,
   "metadata": {},
   "outputs": [
    {
     "data": {
      "text/html": [
       "<div>\n",
       "<style scoped>\n",
       "    .dataframe tbody tr th:only-of-type {\n",
       "        vertical-align: middle;\n",
       "    }\n",
       "\n",
       "    .dataframe tbody tr th {\n",
       "        vertical-align: top;\n",
       "    }\n",
       "\n",
       "    .dataframe thead th {\n",
       "        text-align: right;\n",
       "    }\n",
       "</style>\n",
       "<table border=\"1\" class=\"dataframe\">\n",
       "  <thead>\n",
       "    <tr style=\"text-align: right;\">\n",
       "      <th></th>\n",
       "      <th>Student ID</th>\n",
       "      <th>student_name</th>\n",
       "      <th>gender</th>\n",
       "      <th>grade</th>\n",
       "      <th>school_name</th>\n",
       "      <th>reading_score</th>\n",
       "      <th>math_score</th>\n",
       "      <th>School ID</th>\n",
       "      <th>type</th>\n",
       "      <th>size</th>\n",
       "      <th>budget</th>\n",
       "    </tr>\n",
       "  </thead>\n",
       "  <tbody>\n",
       "    <tr>\n",
       "      <th>0</th>\n",
       "      <td>0</td>\n",
       "      <td>Paul Bradley</td>\n",
       "      <td>M</td>\n",
       "      <td>9th</td>\n",
       "      <td>Huang High School</td>\n",
       "      <td>66</td>\n",
       "      <td>79</td>\n",
       "      <td>0</td>\n",
       "      <td>District</td>\n",
       "      <td>2917</td>\n",
       "      <td>1910635</td>\n",
       "    </tr>\n",
       "    <tr>\n",
       "      <th>1</th>\n",
       "      <td>1</td>\n",
       "      <td>Victor Smith</td>\n",
       "      <td>M</td>\n",
       "      <td>12th</td>\n",
       "      <td>Huang High School</td>\n",
       "      <td>94</td>\n",
       "      <td>61</td>\n",
       "      <td>0</td>\n",
       "      <td>District</td>\n",
       "      <td>2917</td>\n",
       "      <td>1910635</td>\n",
       "    </tr>\n",
       "    <tr>\n",
       "      <th>2</th>\n",
       "      <td>2</td>\n",
       "      <td>Kevin Rodriguez</td>\n",
       "      <td>M</td>\n",
       "      <td>12th</td>\n",
       "      <td>Huang High School</td>\n",
       "      <td>90</td>\n",
       "      <td>60</td>\n",
       "      <td>0</td>\n",
       "      <td>District</td>\n",
       "      <td>2917</td>\n",
       "      <td>1910635</td>\n",
       "    </tr>\n",
       "    <tr>\n",
       "      <th>3</th>\n",
       "      <td>3</td>\n",
       "      <td>Dr. Richard Scott</td>\n",
       "      <td>M</td>\n",
       "      <td>12th</td>\n",
       "      <td>Huang High School</td>\n",
       "      <td>67</td>\n",
       "      <td>58</td>\n",
       "      <td>0</td>\n",
       "      <td>District</td>\n",
       "      <td>2917</td>\n",
       "      <td>1910635</td>\n",
       "    </tr>\n",
       "    <tr>\n",
       "      <th>4</th>\n",
       "      <td>4</td>\n",
       "      <td>Bonnie Ray</td>\n",
       "      <td>F</td>\n",
       "      <td>9th</td>\n",
       "      <td>Huang High School</td>\n",
       "      <td>97</td>\n",
       "      <td>84</td>\n",
       "      <td>0</td>\n",
       "      <td>District</td>\n",
       "      <td>2917</td>\n",
       "      <td>1910635</td>\n",
       "    </tr>\n",
       "  </tbody>\n",
       "</table>\n",
       "</div>"
      ],
      "text/plain": [
       "   Student ID       student_name gender grade        school_name  \\\n",
       "0           0       Paul Bradley      M   9th  Huang High School   \n",
       "1           1       Victor Smith      M  12th  Huang High School   \n",
       "2           2    Kevin Rodriguez      M  12th  Huang High School   \n",
       "3           3  Dr. Richard Scott      M  12th  Huang High School   \n",
       "4           4         Bonnie Ray      F   9th  Huang High School   \n",
       "\n",
       "   reading_score  math_score  School ID      type  size   budget  \n",
       "0             66          79          0  District  2917  1910635  \n",
       "1             94          61          0  District  2917  1910635  \n",
       "2             90          60          0  District  2917  1910635  \n",
       "3             67          58          0  District  2917  1910635  \n",
       "4             97          84          0  District  2917  1910635  "
      ]
     },
     "execution_count": 218,
     "metadata": {},
     "output_type": "execute_result"
    }
   ],
   "source": [
    "#Constants: in all caps (des)\n",
    "\n",
    "PASSING_SCORE = 70\n",
    "\n",
    "# Read School and Student Data File and store into Pandas DataFrames\n",
    "school_data_df = pd.read_csv(COMP_SCHOOOL_PATH)\n",
    "student_data_df = pd.read_csv(COMP_STUDENT_PATH)\n",
    "\n",
    "# Combine the data into a single dataset.  \n",
    "school_data_complete_df = pd.merge(student_data, school_data, how=\"left\", on=[\"school_name\", \"school_name\"])\n",
    "school_data_complete_df.head()"
   ]
  },
  {
   "cell_type": "markdown",
   "metadata": {},
   "source": [
    "District Summary"
   ]
  },
  {
   "cell_type": "code",
   "execution_count": 219,
   "metadata": {},
   "outputs": [
    {
     "name": "stdout",
     "output_type": "stream",
     "text": [
      "There are 15 schools in the PyCity School District.\n"
     ]
    }
   ],
   "source": [
    "# Calculate the total number of unique schools\n",
    "school_count = len(school_data_df)\n",
    "print (\"There are \" + str(school_count) + \" schools in the PyCity School District.\")\n"
   ]
  },
  {
   "cell_type": "code",
   "execution_count": 220,
   "metadata": {},
   "outputs": [
    {
     "data": {
      "text/plain": [
       "Student ID       39170\n",
       "student_name     39170\n",
       "gender           39170\n",
       "grade            39170\n",
       "school_name      39170\n",
       "reading_score    39170\n",
       "math_score       39170\n",
       "School ID        39170\n",
       "type             39170\n",
       "size             39170\n",
       "budget           39170\n",
       "dtype: int64"
      ]
     },
     "execution_count": 220,
     "metadata": {},
     "output_type": "execute_result"
    }
   ],
   "source": [
    "school_data_complete_df.count()\n",
    "school_data_complete_df.count()\n"
   ]
  },
  {
   "cell_type": "code",
   "execution_count": 213,
   "metadata": {},
   "outputs": [
    {
     "data": {
      "text/plain": [
       "39170"
      ]
     },
     "execution_count": 213,
     "metadata": {},
     "output_type": "execute_result"
    }
   ],
   "source": [
    "school_data_complete_df.count()[\"Student ID\"]\n"
   ]
  },
  {
   "cell_type": "code",
   "execution_count": 214,
   "metadata": {},
   "outputs": [
    {
     "data": {
      "text/plain": [
       "39170"
      ]
     },
     "execution_count": 214,
     "metadata": {},
     "output_type": "execute_result"
    }
   ],
   "source": [
    "school_data_complete_df[\"Student ID\"].count()\n"
   ]
  },
  {
   "cell_type": "code",
   "execution_count": 69,
   "metadata": {},
   "outputs": [
    {
     "name": "stdout",
     "output_type": "stream",
     "text": [
      "There are 39170 students in the PyCity School District\n"
     ]
    }
   ],
   "source": [
    "# Calculate the total number of students\n",
    "#student_count = len(school_data_complete_df)\n",
    "student_count = school_data_complete_df[\"Student ID\"].count()\n",
    "print (\"There are \" + str(student_count) + \" students in the PyCity School District\")\n"
   ]
  },
  {
   "cell_type": "markdown",
   "metadata": {},
   "source": [
    "# Calculate the total budget \n",
    "a few different ways"
   ]
  },
  {
   "cell_type": "code",
   "execution_count": 215,
   "metadata": {},
   "outputs": [
    {
     "name": "stdout",
     "output_type": "stream",
     "text": [
      "The District's Total Budget is $24649428\n"
     ]
    }
   ],
   "source": [
    "#school_data_df.sum()[\"budget\"]\n",
    "#school_data_df[\"budget\"].sum()\n",
    "print (\"The District's Total Budget is $\" + str(school_data_df.sum()[\"budget\"]))"
   ]
  },
  {
   "cell_type": "code",
   "execution_count": 216,
   "metadata": {},
   "outputs": [
    {
     "data": {
      "text/html": [
       "<div>\n",
       "<style scoped>\n",
       "    .dataframe tbody tr th:only-of-type {\n",
       "        vertical-align: middle;\n",
       "    }\n",
       "\n",
       "    .dataframe tbody tr th {\n",
       "        vertical-align: top;\n",
       "    }\n",
       "\n",
       "    .dataframe thead th {\n",
       "        text-align: right;\n",
       "    }\n",
       "</style>\n",
       "<table border=\"1\" class=\"dataframe\">\n",
       "  <thead>\n",
       "    <tr style=\"text-align: right;\">\n",
       "      <th></th>\n",
       "      <th>Student ID</th>\n",
       "      <th>reading_score</th>\n",
       "      <th>math_score</th>\n",
       "      <th>School ID</th>\n",
       "      <th>size</th>\n",
       "      <th>budget</th>\n",
       "    </tr>\n",
       "    <tr>\n",
       "      <th>school_name</th>\n",
       "      <th></th>\n",
       "      <th></th>\n",
       "      <th></th>\n",
       "      <th></th>\n",
       "      <th></th>\n",
       "      <th></th>\n",
       "    </tr>\n",
       "  </thead>\n",
       "  <tbody>\n",
       "    <tr>\n",
       "      <th>Bailey High School</th>\n",
       "      <td>20358.5</td>\n",
       "      <td>81.033963</td>\n",
       "      <td>77.048432</td>\n",
       "      <td>7.0</td>\n",
       "      <td>4976.0</td>\n",
       "      <td>3124928.0</td>\n",
       "    </tr>\n",
       "    <tr>\n",
       "      <th>Cabrera High School</th>\n",
       "      <td>16941.5</td>\n",
       "      <td>83.975780</td>\n",
       "      <td>83.061895</td>\n",
       "      <td>6.0</td>\n",
       "      <td>1858.0</td>\n",
       "      <td>1081356.0</td>\n",
       "    </tr>\n",
       "    <tr>\n",
       "      <th>Figueroa High School</th>\n",
       "      <td>4391.0</td>\n",
       "      <td>81.158020</td>\n",
       "      <td>76.711767</td>\n",
       "      <td>1.0</td>\n",
       "      <td>2949.0</td>\n",
       "      <td>1884411.0</td>\n",
       "    </tr>\n",
       "    <tr>\n",
       "      <th>Ford High School</th>\n",
       "      <td>36165.0</td>\n",
       "      <td>80.746258</td>\n",
       "      <td>77.102592</td>\n",
       "      <td>13.0</td>\n",
       "      <td>2739.0</td>\n",
       "      <td>1763916.0</td>\n",
       "    </tr>\n",
       "    <tr>\n",
       "      <th>Griffin High School</th>\n",
       "      <td>12995.5</td>\n",
       "      <td>83.816757</td>\n",
       "      <td>83.351499</td>\n",
       "      <td>4.0</td>\n",
       "      <td>1468.0</td>\n",
       "      <td>917500.0</td>\n",
       "    </tr>\n",
       "    <tr>\n",
       "      <th>Hernandez High School</th>\n",
       "      <td>9944.0</td>\n",
       "      <td>80.934412</td>\n",
       "      <td>77.289752</td>\n",
       "      <td>3.0</td>\n",
       "      <td>4635.0</td>\n",
       "      <td>3022020.0</td>\n",
       "    </tr>\n",
       "    <tr>\n",
       "      <th>Holden High School</th>\n",
       "      <td>23060.0</td>\n",
       "      <td>83.814988</td>\n",
       "      <td>83.803279</td>\n",
       "      <td>8.0</td>\n",
       "      <td>427.0</td>\n",
       "      <td>248087.0</td>\n",
       "    </tr>\n",
       "    <tr>\n",
       "      <th>Huang High School</th>\n",
       "      <td>1458.0</td>\n",
       "      <td>81.182722</td>\n",
       "      <td>76.629414</td>\n",
       "      <td>0.0</td>\n",
       "      <td>2917.0</td>\n",
       "      <td>1910635.0</td>\n",
       "    </tr>\n",
       "    <tr>\n",
       "      <th>Johnson High School</th>\n",
       "      <td>32415.0</td>\n",
       "      <td>80.966394</td>\n",
       "      <td>77.072464</td>\n",
       "      <td>12.0</td>\n",
       "      <td>4761.0</td>\n",
       "      <td>3094650.0</td>\n",
       "    </tr>\n",
       "    <tr>\n",
       "      <th>Pena High School</th>\n",
       "      <td>23754.5</td>\n",
       "      <td>84.044699</td>\n",
       "      <td>83.839917</td>\n",
       "      <td>9.0</td>\n",
       "      <td>962.0</td>\n",
       "      <td>585858.0</td>\n",
       "    </tr>\n",
       "    <tr>\n",
       "      <th>Rodriguez High School</th>\n",
       "      <td>28035.0</td>\n",
       "      <td>80.744686</td>\n",
       "      <td>76.842711</td>\n",
       "      <td>11.0</td>\n",
       "      <td>3999.0</td>\n",
       "      <td>2547363.0</td>\n",
       "    </tr>\n",
       "    <tr>\n",
       "      <th>Shelton High School</th>\n",
       "      <td>6746.0</td>\n",
       "      <td>83.725724</td>\n",
       "      <td>83.359455</td>\n",
       "      <td>2.0</td>\n",
       "      <td>1761.0</td>\n",
       "      <td>1056600.0</td>\n",
       "    </tr>\n",
       "    <tr>\n",
       "      <th>Thomas High School</th>\n",
       "      <td>38352.0</td>\n",
       "      <td>83.848930</td>\n",
       "      <td>83.418349</td>\n",
       "      <td>14.0</td>\n",
       "      <td>1635.0</td>\n",
       "      <td>1043130.0</td>\n",
       "    </tr>\n",
       "    <tr>\n",
       "      <th>Wilson High School</th>\n",
       "      <td>14871.0</td>\n",
       "      <td>83.989488</td>\n",
       "      <td>83.274201</td>\n",
       "      <td>5.0</td>\n",
       "      <td>2283.0</td>\n",
       "      <td>1319574.0</td>\n",
       "    </tr>\n",
       "    <tr>\n",
       "      <th>Wright High School</th>\n",
       "      <td>25135.5</td>\n",
       "      <td>83.955000</td>\n",
       "      <td>83.682222</td>\n",
       "      <td>10.0</td>\n",
       "      <td>1800.0</td>\n",
       "      <td>1049400.0</td>\n",
       "    </tr>\n",
       "  </tbody>\n",
       "</table>\n",
       "</div>"
      ],
      "text/plain": [
       "                       Student ID  reading_score  math_score  School ID  \\\n",
       "school_name                                                               \n",
       "Bailey High School        20358.5      81.033963   77.048432        7.0   \n",
       "Cabrera High School       16941.5      83.975780   83.061895        6.0   \n",
       "Figueroa High School       4391.0      81.158020   76.711767        1.0   \n",
       "Ford High School          36165.0      80.746258   77.102592       13.0   \n",
       "Griffin High School       12995.5      83.816757   83.351499        4.0   \n",
       "Hernandez High School      9944.0      80.934412   77.289752        3.0   \n",
       "Holden High School        23060.0      83.814988   83.803279        8.0   \n",
       "Huang High School          1458.0      81.182722   76.629414        0.0   \n",
       "Johnson High School       32415.0      80.966394   77.072464       12.0   \n",
       "Pena High School          23754.5      84.044699   83.839917        9.0   \n",
       "Rodriguez High School     28035.0      80.744686   76.842711       11.0   \n",
       "Shelton High School        6746.0      83.725724   83.359455        2.0   \n",
       "Thomas High School        38352.0      83.848930   83.418349       14.0   \n",
       "Wilson High School        14871.0      83.989488   83.274201        5.0   \n",
       "Wright High School        25135.5      83.955000   83.682222       10.0   \n",
       "\n",
       "                         size     budget  \n",
       "school_name                               \n",
       "Bailey High School     4976.0  3124928.0  \n",
       "Cabrera High School    1858.0  1081356.0  \n",
       "Figueroa High School   2949.0  1884411.0  \n",
       "Ford High School       2739.0  1763916.0  \n",
       "Griffin High School    1468.0   917500.0  \n",
       "Hernandez High School  4635.0  3022020.0  \n",
       "Holden High School      427.0   248087.0  \n",
       "Huang High School      2917.0  1910635.0  \n",
       "Johnson High School    4761.0  3094650.0  \n",
       "Pena High School        962.0   585858.0  \n",
       "Rodriguez High School  3999.0  2547363.0  \n",
       "Shelton High School    1761.0  1056600.0  \n",
       "Thomas High School     1635.0  1043130.0  \n",
       "Wilson High School     2283.0  1319574.0  \n",
       "Wright High School     1800.0  1049400.0  "
      ]
     },
     "execution_count": 216,
     "metadata": {},
     "output_type": "execute_result"
    }
   ],
   "source": [
    "school_data_complete_df.groupby(\"school_name\").mean()\n"
   ]
  },
  {
   "cell_type": "code",
   "execution_count": 81,
   "metadata": {},
   "outputs": [
    {
     "name": "stdout",
     "output_type": "stream",
     "text": [
      "The District's Total Budget is $24649428.0\n"
     ]
    }
   ],
   "source": [
    "Mean_sdc_gb = school_data_complete_df.groupby(\"school_name\").mean()\n",
    "Mean_sdc_gb[\"budget\"].sum()\n",
    "print (\"The District's Total Budget is $\" + str(Mean_sdc_gb[\"budget\"].sum()))\n"
   ]
  },
  {
   "cell_type": "markdown",
   "metadata": {},
   "source": [
    "#District Average Math Score"
   ]
  },
  {
   "cell_type": "code",
   "execution_count": 99,
   "metadata": {},
   "outputs": [
    {
     "name": "stdout",
     "output_type": "stream",
     "text": [
      "The District's Average Math Score is 79.0\n"
     ]
    }
   ],
   "source": [
    "print(\"The District's Average Math Score is \" + str(round(school_data_complete_df[\"math_score\"].mean(), 0)))"
   ]
  },
  {
   "cell_type": "markdown",
   "metadata": {},
   "source": [
    "#District Average Reading Score"
   ]
  },
  {
   "cell_type": "code",
   "execution_count": 100,
   "metadata": {},
   "outputs": [
    {
     "name": "stdout",
     "output_type": "stream",
     "text": [
      "The District's Average Reading Score is 82.0\n"
     ]
    }
   ],
   "source": [
    "print(\"The District's Average Reading Score is \" + str(round(school_data_complete_df[\"reading_score\"].mean(), 0)))"
   ]
  },
  {
   "cell_type": "markdown",
   "metadata": {},
   "source": [
    "# % Students Passing Math\n",
    "# % Students Passing Reading"
   ]
  },
  {
   "cell_type": "code",
   "execution_count": 102,
   "metadata": {},
   "outputs": [],
   "source": [
    "pass_reading_s = school_data_complete_df[\"reading_score\"] >= 70\n",
    "pass_math_s = school_data_complete_df[\"math_score\"] >= 70"
   ]
  },
  {
   "cell_type": "code",
   "execution_count": 118,
   "metadata": {},
   "outputs": [
    {
     "name": "stdout",
     "output_type": "stream",
     "text": [
      "75% of the District's students passed Math\n",
      "86% of the District's students passed Reading\n",
      "65% of the District's students passed both Math and Reading\n"
     ]
    }
   ],
   "source": [
    "pass_reading_count_s = school_data_complete_df[(school_data_complete_df[\"reading_score\"] >= 70)].count()[\"student_name\"]\n",
    "pass_math_count_s = school_data_complete_df[(school_data_complete_df[\"math_score\"] >= 70)].count()[\"student_name\"]\n",
    "passing_math_percentage_s = pass_math_count_s / float(student_count) * 100\n",
    "passing_reading_percentage_s = pass_reading_count_s / float(student_count) * 100\n",
    "#pass_both_count_s = pass_math_count_s & pass_reading_count_s\n",
    "pass_both_count_s = school_data_complete_df[(school_data_complete_df[\"reading_score\"] >= 70) & (school_data_complete_df[\"math_score\"] >= 70)].count()[\"student_name\"]\n",
    "passing_both_percentage_s = pass_both_count_s / float(student_count) *100\n",
    "\n",
    "#school_data_complete_df[(pass_both_count_s)] \n",
    "\n",
    "#print (str(pass_math_count_s))\n",
    "print (str(round(passing_math_percentage_s)) + \"% of the District's students passed Math\")\n",
    "#print (str(pass_reading_count_s))\n",
    "print (str(round(passing_reading_percentage_s)) + \"% of the District's students passed Reading\")\n",
    "#print (str(pass_both_count_s))\n",
    "print (str(round(passing_both_percentage_s)) + \"% of the District's students passed both Math and Reading\")\n",
    "\n"
   ]
  },
  {
   "cell_type": "markdown",
   "metadata": {},
   "source": [
    "High Level District Data Frame Analysis\n",
    "\n"
   ]
  },
  {
   "cell_type": "code",
   "execution_count": 208,
   "metadata": {},
   "outputs": [
    {
     "ename": "TypeError",
     "evalue": "str() argument 2 must be str, not int",
     "output_type": "error",
     "traceback": [
      "\u001b[1;31m---------------------------------------------------------------------------\u001b[0m",
      "\u001b[1;31mTypeError\u001b[0m                                 Traceback (most recent call last)",
      "\u001b[1;32mc:\\Users\\MankweNdosi\\ClassActivities\\Pandas_Challenge\\PyCitySchScripts.ipynb Cell 21\u001b[0m in \u001b[0;36m<cell line: 2>\u001b[1;34m()\u001b[0m\n\u001b[0;32m      <a href='vscode-notebook-cell:/c%3A/Users/MankweNdosi/ClassActivities/Pandas_Challenge/PyCitySchScripts.ipynb#X42sZmlsZQ%3D%3D?line=0'>1</a>\u001b[0m \u001b[39m#dist_summary_headers = [\"Total Schools\", \"Total Budget\", \"Average Math Score\", \"Average Reading Score\", \"Percentage Students Passing Math\", \"Percentage Students Passing Reading\", \"Percentage Students Passing Reading and Math\"]\u001b[39;00m\n\u001b[0;32m      <a href='vscode-notebook-cell:/c%3A/Users/MankweNdosi/ClassActivities/Pandas_Challenge/PyCitySchScripts.ipynb#X42sZmlsZQ%3D%3D?line=1'>2</a>\u001b[0m summary_data \u001b[39m=\u001b[39m{\u001b[39m\"\u001b[39m\u001b[39mTotal Schools\u001b[39m\u001b[39m\"\u001b[39m: [\u001b[39mstr\u001b[39m(school_count)], \u001b[39m\"\u001b[39m\u001b[39mTotal Budget\u001b[39m\u001b[39m\"\u001b[39m: [\u001b[39mstr\u001b[39m(Mean_sdc_gb[\u001b[39m\"\u001b[39m\u001b[39mbudget\u001b[39m\u001b[39m\"\u001b[39m]\u001b[39m.\u001b[39msum())],\n\u001b[1;32m----> <a href='vscode-notebook-cell:/c%3A/Users/MankweNdosi/ClassActivities/Pandas_Challenge/PyCitySchScripts.ipynb#X42sZmlsZQ%3D%3D?line=2'>3</a>\u001b[0m  \u001b[39m\"\u001b[39m\u001b[39mAvg Math Score\u001b[39m\u001b[39m\"\u001b[39m: [\u001b[39mstr\u001b[39;49m(\u001b[39mround\u001b[39;49m(school_data_complete_df[\u001b[39m\"\u001b[39;49m\u001b[39mmath_score\u001b[39;49m\u001b[39m\"\u001b[39;49m]\u001b[39m.\u001b[39;49mmean()), \u001b[39m0\u001b[39;49m)], \n\u001b[0;32m      <a href='vscode-notebook-cell:/c%3A/Users/MankweNdosi/ClassActivities/Pandas_Challenge/PyCitySchScripts.ipynb#X42sZmlsZQ%3D%3D?line=3'>4</a>\u001b[0m  \u001b[39m\"\u001b[39m\u001b[39mAvg Reading Score\u001b[39m\u001b[39m\"\u001b[39m: [\u001b[39mstr\u001b[39m(\u001b[39mround\u001b[39m(school_data_complete_df[\u001b[39m\"\u001b[39m\u001b[39mreading_score\u001b[39m\u001b[39m\"\u001b[39m]\u001b[39m.\u001b[39mmean()))], \n\u001b[0;32m      <a href='vscode-notebook-cell:/c%3A/Users/MankweNdosi/ClassActivities/Pandas_Challenge/PyCitySchScripts.ipynb#X42sZmlsZQ%3D%3D?line=4'>5</a>\u001b[0m  \u001b[39m\"\u001b[39m\u001b[39m%\u001b[39m\u001b[39m Students Passing Math\u001b[39m\u001b[39m\"\u001b[39m: [\u001b[39mstr\u001b[39m(\u001b[39mround\u001b[39m(passing_math_percentage_s))], \n\u001b[0;32m      <a href='vscode-notebook-cell:/c%3A/Users/MankweNdosi/ClassActivities/Pandas_Challenge/PyCitySchScripts.ipynb#X42sZmlsZQ%3D%3D?line=5'>6</a>\u001b[0m  \u001b[39m\"\u001b[39m\u001b[39m%\u001b[39m\u001b[39m Students Passing Reading\u001b[39m\u001b[39m\"\u001b[39m: [\u001b[39mstr\u001b[39m(\u001b[39mround\u001b[39m(passing_reading_percentage_s))], \n\u001b[0;32m      <a href='vscode-notebook-cell:/c%3A/Users/MankweNdosi/ClassActivities/Pandas_Challenge/PyCitySchScripts.ipynb#X42sZmlsZQ%3D%3D?line=6'>7</a>\u001b[0m  \u001b[39m\"\u001b[39m\u001b[39m%\u001b[39m\u001b[39m Students Passing Reading and Math\u001b[39m\u001b[39m\"\u001b[39m: [\u001b[39mstr\u001b[39m(\u001b[39mround\u001b[39m(passing_both_percentage_s))]}\n\u001b[0;32m      <a href='vscode-notebook-cell:/c%3A/Users/MankweNdosi/ClassActivities/Pandas_Challenge/PyCitySchScripts.ipynb#X42sZmlsZQ%3D%3D?line=8'>9</a>\u001b[0m dist_summary_df \u001b[39m=\u001b[39m pd\u001b[39m.\u001b[39mDataFrame(summary_data)\n\u001b[0;32m     <a href='vscode-notebook-cell:/c%3A/Users/MankweNdosi/ClassActivities/Pandas_Challenge/PyCitySchScripts.ipynb#X42sZmlsZQ%3D%3D?line=9'>10</a>\u001b[0m \u001b[39m#district_summary_df = pd.merge(dist_summary_headers, dist_summary_data, how=\"outer\")\u001b[39;00m\n\u001b[0;32m     <a href='vscode-notebook-cell:/c%3A/Users/MankweNdosi/ClassActivities/Pandas_Challenge/PyCitySchScripts.ipynb#X42sZmlsZQ%3D%3D?line=10'>11</a>\u001b[0m \n\u001b[0;32m     <a href='vscode-notebook-cell:/c%3A/Users/MankweNdosi/ClassActivities/Pandas_Challenge/PyCitySchScripts.ipynb#X42sZmlsZQ%3D%3D?line=11'>12</a>\u001b[0m \u001b[39m#district_summary[\"Total Students\"] = district_summary[\"Total Students\"].map(\"{:,}\".format)\u001b[39;00m\n\u001b[1;32m   (...)\u001b[0m\n\u001b[0;32m     <a href='vscode-notebook-cell:/c%3A/Users/MankweNdosi/ClassActivities/Pandas_Challenge/PyCitySchScripts.ipynb#X42sZmlsZQ%3D%3D?line=14'>15</a>\u001b[0m \n\u001b[0;32m     <a href='vscode-notebook-cell:/c%3A/Users/MankweNdosi/ClassActivities/Pandas_Challenge/PyCitySchScripts.ipynb#X42sZmlsZQ%3D%3D?line=15'>16</a>\u001b[0m \u001b[39m# Display the DataFrame\u001b[39;00m\n",
      "\u001b[1;31mTypeError\u001b[0m: str() argument 2 must be str, not int"
     ]
    }
   ],
   "source": [
    "\n",
    "#dist_summary_headers = [\"Total Schools\", \"Total Budget\", \"Average Math Score\", \"Average Reading Score\", \"Percentage Students Passing Math\", \"Percentage Students Passing Reading\", \"Percentage Students Passing Reading and Math\"]\n",
    "summary_data ={\"Total Schools\": [str(school_count)], \"Total Budget\": [str(Mean_sdc_gb[\"budget\"].sum())],\n",
    " \"Avg Math Score\": [str(round(school_data_complete_df[\"math_score\"].mean()), 0)], \n",
    " \"Avg Reading Score\": [str(round(school_data_complete_df[\"reading_score\"].mean()))], \n",
    " \"% Students Passing Math\": [str(round(passing_math_percentage_s))], \n",
    " \"% Students Passing Reading\": [str(round(passing_reading_percentage_s))], \n",
    " \"% Students Passing Reading and Math\": [str(round(passing_both_percentage_s))]}\n",
    "\n",
    "dist_summary_df = pd.DataFrame(summary_data)\n",
    "#district_summary_df = pd.merge(dist_summary_headers, dist_summary_data, how=\"outer\")\n",
    "\n",
    "#district_summary[\"Total Students\"] = district_summary[\"Total Students\"].map(\"{:,}\".format)\n",
    "\n",
    "#district_summary[\"Total Budget\"] = district_summary[\"Total Budget\"].map(\"${:,.2f}\".format)\n",
    "\n",
    "# Display the DataFrame\n",
    "dist_summary_df"
   ]
  },
  {
   "cell_type": "markdown",
   "metadata": {},
   "source": [
    "School Summaries\n"
   ]
  },
  {
   "cell_type": "markdown",
   "metadata": {},
   "source": []
  },
  {
   "cell_type": "code",
   "execution_count": 169,
   "metadata": {},
   "outputs": [
    {
     "name": "stdout",
     "output_type": "stream",
     "text": [
      "school_name\n",
      "Huang High School        District\n",
      "Figueroa High School     District\n",
      "Shelton High School       Charter\n",
      "Hernandez High School    District\n",
      "Griffin High School       Charter\n",
      "Wilson High School        Charter\n",
      "Cabrera High School       Charter\n",
      "Bailey High School       District\n",
      "Holden High School        Charter\n",
      "Pena High School          Charter\n",
      "Wright High School        Charter\n",
      "Rodriguez High School    District\n",
      "Johnson High School      District\n",
      "Ford High School         District\n",
      "Thomas High School        Charter\n",
      "Name: type, dtype: object\n"
     ]
    }
   ],
   "source": [
    "school_types = school_data.set_index([\"school_name\"])[\"type\"]\n",
    "print (school_types)\n"
   ]
  },
  {
   "cell_type": "code",
   "execution_count": null,
   "metadata": {},
   "outputs": [],
   "source": []
  },
  {
   "cell_type": "code",
   "execution_count": 188,
   "metadata": {},
   "outputs": [
    {
     "ename": "TypeError",
     "evalue": "'Series' object is not callable",
     "output_type": "error",
     "traceback": [
      "\u001b[1;31m---------------------------------------------------------------------------\u001b[0m",
      "\u001b[1;31mTypeError\u001b[0m                                 Traceback (most recent call last)",
      "\u001b[1;32mc:\\Users\\MankweNdosi\\ClassActivities\\Pandas_Challenge\\PyCitySchScripts.ipynb Cell 24\u001b[0m in \u001b[0;36m<cell line: 3>\u001b[1;34m()\u001b[0m\n\u001b[0;32m      <a href='vscode-notebook-cell:/c%3A/Users/MankweNdosi/ClassActivities/Pandas_Challenge/PyCitySchScripts.ipynb#X35sZmlsZQ%3D%3D?line=0'>1</a>\u001b[0m \u001b[39m# Calculate the total student count\u001b[39;00m\n\u001b[0;32m      <a href='vscode-notebook-cell:/c%3A/Users/MankweNdosi/ClassActivities/Pandas_Challenge/PyCitySchScripts.ipynb#X35sZmlsZQ%3D%3D?line=1'>2</a>\u001b[0m \u001b[39m#per_school_counts = \u001b[39;00m\n\u001b[1;32m----> <a href='vscode-notebook-cell:/c%3A/Users/MankweNdosi/ClassActivities/Pandas_Challenge/PyCitySchScripts.ipynb#X35sZmlsZQ%3D%3D?line=2'>3</a>\u001b[0m student_count_schl_s \u001b[39m=\u001b[39m school_data\u001b[39m.\u001b[39;49mset_index([\u001b[39m\"\u001b[39;49m\u001b[39mschool_name\u001b[39;49m\u001b[39m\"\u001b[39;49m])[\u001b[39m\"\u001b[39;49m\u001b[39mtype\u001b[39;49m\u001b[39m\"\u001b[39;49m]([\u001b[39m\"\u001b[39;49m\u001b[39mstudent_name\u001b[39;49m\u001b[39m\"\u001b[39;49m])\u001b[39m.\u001b[39mcount()\n",
      "\u001b[1;31mTypeError\u001b[0m: 'Series' object is not callable"
     ]
    }
   ],
   "source": [
    "# Calculate the total student count\n",
    "#per_school_counts = \n",
    "student_count_schl_df = school_data.set_index([\"school_name\"])[\"type\"]([\"student_name\"]).count()\n",
    "\n",
    "#if \"school_name\" == \"Huang High School\":\n",
    "#student_data_df.set_index([\"school_name\"])[\"student_name\"].count()\n",
    "    "
   ]
  },
  {
   "cell_type": "markdown",
   "metadata": {},
   "source": []
  }
 ],
 "metadata": {
  "kernelspec": {
   "display_name": "pythondata1",
   "language": "python",
   "name": "pythondata1"
  },
  "language_info": {
   "codemirror_mode": {
    "name": "ipython",
    "version": 3
   },
   "file_extension": ".py",
   "mimetype": "text/x-python",
   "name": "python",
   "nbconvert_exporter": "python",
   "pygments_lexer": "ipython3",
   "version": "3.9.12"
  },
  "orig_nbformat": 4,
  "vscode": {
   "interpreter": {
    "hash": "8bc8a26fabfc6c14a74e22ad098b9a2b5644a85d0aa2bca7795e2804feca9ec4"
   }
  }
 },
 "nbformat": 4,
 "nbformat_minor": 2
}
